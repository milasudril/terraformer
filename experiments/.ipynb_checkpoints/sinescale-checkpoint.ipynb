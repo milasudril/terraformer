{
 "cells": [
  {
   "cell_type": "code",
   "execution_count": 3,
   "id": "803fa1bc",
   "metadata": {},
   "outputs": [],
   "source": [
    "import numpy\n",
    "import matplotlib.pyplot\n",
    "import ipywidgets\n"
   ]
  },
  {
   "cell_type": "code",
   "execution_count": 4,
   "id": "c048a955",
   "metadata": {},
   "outputs": [],
   "source": [
    "def sinsum(freq_base, phase_scale, periods, amplitude, depth, phase_noise, scale_noise):\n",
    "    x=numpy.linspace(0, 1, 1024)\n",
    "    y=numpy.zeros(1024)\n",
    "    x0 = numpy.random.uniform(-0.5, 0.5)\n",
    "    \n",
    "    fig, axs = matplotlib.pyplot.subplots(1, 1, figsize=(12,8), dpi= 100)\n",
    "    \n",
    "    for k in range(1, depth):\n",
    "        scale = numpy.float_power(freq_base, k + scale_noise*numpy.random.uniform(-0.5, 0.5));\n",
    "        y_temp = numpy.sin(2*numpy.pi*(scale*((x - x0)*periods - k*phase_scale + phase_noise*numpy.random.uniform(-0.5, 0.5))))/scale\n",
    "        axs.plot(x, y_temp)\n",
    "        y += numpy.sin(2*numpy.pi*(scale*((x - x0)*periods - k*phase_scale + phase_noise*numpy.random.uniform(-0.5, 0.5))))/scale\n",
    "        \n",
    "    y = amplitude*y/(numpy.max(numpy.abs(y)))\n",
    "    \n",
    "    axs.plot(x, y)\n",
    "    axs.axis('equal')\n",
    "    matplotlib.pyplot.show()"
   ]
  },
  {
   "cell_type": "code",
   "execution_count": 5,
   "id": "6dd4d89a",
   "metadata": {},
   "outputs": [
    {
     "name": "stderr",
     "output_type": "stream",
     "text": [
      "Widget Javascript not detected.  It may not be installed or enabled properly. Reconnecting the current kernel may help.\n"
     ]
    },
    {
     "data": {
      "application/vnd.jupyter.widget-view+json": {
       "model_id": "7c7e8c42bfb949c9ab16eb433eea900c"
      }
     },
     "metadata": {},
     "output_type": "display_data"
    },
    {
     "data": {
      "text/plain": [
       "<function __main__.sinsum(freq_base, phase_scale, periods, amplitude, depth, phase_noise, scale_noise)>"
      ]
     },
     "execution_count": 5,
     "metadata": {},
     "output_type": "execute_result"
    }
   ],
   "source": [
    "ipywidgets.interact(sinsum,\n",
    "                    freq_base=ipywidgets.FloatSlider(min=1, max=3, step=1/128),\n",
    "                    phase_scale=ipywidgets.FloatSlider(min=0, max=1, step=1/128),\n",
    "                    periods = ipywidgets.IntSlider(min=1, max=16),\n",
    "                    amplitude = ipywidgets.FloatSlider(min=0, max=4, step=1/128),\n",
    "                    depth = ipywidgets.IntSlider(min=1, max=32),\n",
    "                    phase_noise =ipywidgets.FloatSlider(min=0, max=1, step=1/128),\n",
    "                    scale_noise =ipywidgets.FloatSlider(min=0, max=1, step=1/128))"
   ]
  },
  {
   "cell_type": "code",
   "execution_count": 118,
   "id": "dce892c7",
   "metadata": {},
   "outputs": [
    {
     "ename": "TypeError",
     "evalue": "sinsum() missing 1 required positional argument: 'periods'",
     "output_type": "error",
     "traceback": [
      "\u001b[0;31m---------------------------------------------------------------------------\u001b[0m",
      "\u001b[0;31mTypeError\u001b[0m                                 Traceback (most recent call last)",
      "\u001b[0;32m/tmp/ipykernel_77183/3512583043.py\u001b[0m in \u001b[0;36m<module>\u001b[0;34m\u001b[0m\n\u001b[0;32m----> 1\u001b[0;31m \u001b[0msinsum\u001b[0m\u001b[0;34m(\u001b[0m\u001b[0;36m2\u001b[0m\u001b[0;34m,\u001b[0m \u001b[0;36m0.5\u001b[0m\u001b[0;34m)\u001b[0m\u001b[0;34m\u001b[0m\u001b[0;34m\u001b[0m\u001b[0m\n\u001b[0m",
      "\u001b[0;31mTypeError\u001b[0m: sinsum() missing 1 required positional argument: 'periods'"
     ]
    }
   ],
   "source": [
    "sinsum(2, 0.5)"
   ]
  },
  {
   "cell_type": "code",
   "execution_count": null,
   "id": "1b584e7b",
   "metadata": {},
   "outputs": [],
   "source": []
  },
  {
   "cell_type": "code",
   "execution_count": null,
   "id": "a505d316",
   "metadata": {},
   "outputs": [],
   "source": []
  }
 ],
 "metadata": {
  "kernelspec": {
   "display_name": "Python 3 (ipykernel)",
   "language": "python",
   "name": "python3"
  },
  "language_info": {
   "codemirror_mode": {
    "name": "ipython",
    "version": 3
   },
   "file_extension": ".py",
   "mimetype": "text/x-python",
   "name": "python",
   "nbconvert_exporter": "python",
   "pygments_lexer": "ipython3",
   "version": "3.10.6"
  }
 },
 "nbformat": 4,
 "nbformat_minor": 5
}
