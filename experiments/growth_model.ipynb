{
 "cells": [
  {
   "cell_type": "code",
   "execution_count": 52,
   "id": "50fd8fa2",
   "metadata": {},
   "outputs": [],
   "source": [
    "import numpy\n",
    "import matplotlib.pyplot\n",
    "import ipywidgets\n",
    "from scipy.integrate import solve_ivp"
   ]
  },
  {
   "cell_type": "code",
   "execution_count": 53,
   "id": "597e61f1",
   "metadata": {},
   "outputs": [],
   "source": [
    "def ode(resources, biomass, biomass_growth_rate, min_res, resource_consumption_rate, b0, resource_spawn_rate):\n",
    "    resources_change = -resources*resource_consumption_rate*(biomass + b0) + resource_spawn_rate\n",
    "    biomass_change = biomass_growth_rate*biomass*(resources - min_res)\n",
    "    \n",
    "    return [resources_change, biomass_change]"
   ]
  },
  {
   "cell_type": "code",
   "execution_count": 60,
   "id": "7da91bee",
   "metadata": {},
   "outputs": [],
   "source": [
    "def odeplot(biomass_growth_rate, min_res, resource_consumption_rate, b0, resource_spawn_rate):\n",
    "    res = solve_ivp(lambda t, y: ode(y[0], y[1], biomass_growth_rate, min_res, resource_consumption_rate, b0, resource_spawn_rate),[0, 100], [0, 1e-3], dense_output=True)\n",
    "    matplotlib.pyplot.plot(res.t, res.y[1])\n",
    "    matplotlib.pyplot.show()"
   ]
  },
  {
   "cell_type": "code",
   "execution_count": 61,
   "id": "63b1b289",
   "metadata": {},
   "outputs": [
    {
     "name": "stderr",
     "output_type": "stream",
     "text": [
      "Widget Javascript not detected.  It may not be installed or enabled properly. Reconnecting the current kernel may help.\n"
     ]
    },
    {
     "data": {
      "application/vnd.jupyter.widget-view+json": {
       "model_id": "8be6bdd068bb4f488886ef1a915bc5e1"
      }
     },
     "metadata": {},
     "output_type": "display_data"
    }
   ],
   "source": [
    "ipywidgets.interactive(odeplot,\n",
    " biomass_growth_rate=ipywidgets.FloatSlider(min=0, max=1, value = 0.5, step=1/128, continuous_update=True),\n",
    " min_res=ipywidgets.FloatSlider(min=0, max=1, value = 0.5, step=1/128, continuous_update=True),\n",
    " b0=ipywidgets.FloatSlider(min=0, max=1, value = 0.5, step=1/128, continuous_update=True),\n",
    " resource_consumption_rate=ipywidgets.FloatSlider(min=0, max=1, value = 0.5, step=1/128, continuous_update=True),\n",
    " resource_spawn_rate=ipywidgets.FloatSlider(min=0, max=1, value = 0.5, step=1/128, continuous_update=True),\n",
    ")"
   ]
  },
  {
   "cell_type": "code",
   "execution_count": null,
   "id": "1900db4e",
   "metadata": {},
   "outputs": [],
   "source": []
  },
  {
   "cell_type": "code",
   "execution_count": null,
   "id": "c5aa5f20",
   "metadata": {},
   "outputs": [],
   "source": []
  }
 ],
 "metadata": {
  "kernelspec": {
   "display_name": "Python 3 (ipykernel)",
   "language": "python",
   "name": "python3"
  },
  "language_info": {
   "codemirror_mode": {
    "name": "ipython",
    "version": 3
   },
   "file_extension": ".py",
   "mimetype": "text/x-python",
   "name": "python",
   "nbconvert_exporter": "python",
   "pygments_lexer": "ipython3",
   "version": "3.10.6"
  }
 },
 "nbformat": 4,
 "nbformat_minor": 5
}
